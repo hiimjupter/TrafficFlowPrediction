{
 "cells": [
  {
   "cell_type": "code",
   "execution_count": 1,
   "metadata": {},
   "outputs": [],
   "source": [
    "import pandas as pd\n",
    "import numpy as np\n",
    "import os"
   ]
  },
  {
   "cell_type": "code",
   "execution_count": 2,
   "metadata": {},
   "outputs": [],
   "source": [
    "input_dir = '/Users/jupternguyen/Projects/TrafficFlowPrediction/data/raw_scats/Scats Data October 2006.csv'\n",
    "output_dir = '/Users/jupternguyen/Projects/TrafficFlowPrediction/data/separated_scats/'\n",
    "os.makedirs(output_dir, exist_ok=True)"
   ]
  },
  {
   "cell_type": "code",
   "execution_count": 3,
   "metadata": {},
   "outputs": [],
   "source": [
    "df = pd.read_csv(input_dir)"
   ]
  },
  {
   "cell_type": "code",
   "execution_count": 4,
   "metadata": {},
   "outputs": [
    {
     "name": "stdout",
     "output_type": "stream",
     "text": [
      "   SCATS Number                         Location CD_MELWAY  NB_LATITUDE  \\\n",
      "0           970  WARRIGAL_RD N of HIGH STREET_RD   060 G10    -37.86703   \n",
      "1           970  WARRIGAL_RD N of HIGH STREET_RD   060 G10    -37.86703   \n",
      "2           970  WARRIGAL_RD N of HIGH STREET_RD   060 G10    -37.86703   \n",
      "3           970  WARRIGAL_RD N of HIGH STREET_RD   060 G10    -37.86703   \n",
      "4           970  WARRIGAL_RD N of HIGH STREET_RD   060 G10    -37.86703   \n",
      "\n",
      "   NB_LONGITUDE  HF VicRoads Internal  VR Internal Stat  VR Internal Loc  \\\n",
      "0     145.09159                   249               182                1   \n",
      "1     145.09159                   249               182                1   \n",
      "2     145.09159                   249               182                1   \n",
      "3     145.09159                   249               182                1   \n",
      "4     145.09159                   249               182                1   \n",
      "\n",
      "   NB_TYPE_SURVEY        Date  ...  V86  V87  V88  V89  V90  V91  V92  V93  \\\n",
      "0               1  01-10-2006  ...  114   97   97   66   81   50   59   47   \n",
      "1               1  02-10-2006  ...  111  102  107  114   80   60   62   48   \n",
      "2               1  03-10-2006  ...  130  132  114   86   93   90   73   57   \n",
      "3               1  04-10-2006  ...  115  113  132  101  113   90   78   66   \n",
      "4               1  05-10-2006  ...  171  120  116  113   99   91   61   55   \n",
      "\n",
      "   V94  V95  \n",
      "0   29   34  \n",
      "1   44   26  \n",
      "2   29   40  \n",
      "3   52   44  \n",
      "4   49   36  \n",
      "\n",
      "[5 rows x 106 columns]\n"
     ]
    }
   ],
   "source": [
    "# Drop the last three columns\n",
    "df = df.iloc[:, :-3]\n",
    "print(df.head())"
   ]
  },
  {
   "cell_type": "code",
   "execution_count": 5,
   "metadata": {},
   "outputs": [
    {
     "name": "stdout",
     "output_type": "stream",
     "text": [
      "0\n",
      "0\n"
     ]
    }
   ],
   "source": [
    "# Check for missing values\n",
    "na_counts = df.isna().sum().sum() # three unrelated columns\n",
    "print(na_counts)\n",
    "\n",
    "# Check for duplicates\n",
    "duplicate_counts = df.duplicated().sum()\n",
    "print(duplicate_counts)"
   ]
  },
  {
   "cell_type": "code",
   "execution_count": 6,
   "metadata": {},
   "outputs": [
    {
     "name": "stdout",
     "output_type": "stream",
     "text": [
      "Transformed 402432 records\n"
     ]
    }
   ],
   "source": [
    "# Initialize an empty list to store the transformed data\n",
    "transformed_data = []\n",
    "\n",
    "# Loop through each row in the dataset\n",
    "for idx, record in df.iterrows():\n",
    "    scats_id = record['SCATS Number']  # Extract SCATS Number\n",
    "    site_location = record['Location']  # Extract location\n",
    "    record_date = record['Date']  # Extract date\n",
    "\n",
    "    # Loop through 96 intervals, representing 15-minute blocks in a day\n",
    "    for interval in range(96):\n",
    "        # Append a dictionary with the transformed row to the transformed_data list\n",
    "        transformed_data.append({\n",
    "            'SCATS Number': scats_id,\n",
    "            'Location': site_location,\n",
    "            '15 Minutes': record_date,  # Append date as part of the '15 Minutes' column\n",
    "            'Lane 1 Flow (Veh/15 Minutes)': record[f'V{interval:02d}'],  # Vehicle flow data for each 15-minute interval\n",
    "            '# Lane Points': 1,  # Assumed to be 1 lane point\n",
    "            '% Observed': 100  # Assumed 100% data observation\n",
    "        })\n",
    "\n",
    "print(f'Transformed {len(transformed_data)} records')"
   ]
  },
  {
   "cell_type": "code",
   "execution_count": 7,
   "metadata": {},
   "outputs": [
    {
     "name": "stdout",
     "output_type": "stream",
     "text": [
      "Found 139 unique locations\n"
     ]
    }
   ],
   "source": [
    "# Create a DataFrame from the transformed data (ignoring the extra columns initially)\n",
    "df_transformed = pd.DataFrame(transformed_data)\n",
    "\n",
    "# Format the SCATS Number as a 4-digit string for consistency\n",
    "df_transformed['SCATS Number'] = df_transformed['SCATS Number'].apply(lambda x: f'{x:04d}')\n",
    "\n",
    "# Generate time intervals for each 15-minute block in a day\n",
    "time_blocks = pd.date_range(start='00:00', end='23:45', freq='15min').strftime('%H:%M').tolist()\n",
    "df_transformed['Time'] = time_blocks * (len(df_transformed) // len(time_blocks))\n",
    "df_transformed['15 Minutes'] = df_transformed['15 Minutes'] + ' ' + df_transformed['Time']\n",
    "df_transformed = df_transformed.drop(columns=['Time'])\n",
    "\n",
    "# Convert the '15 Minutes' column to datetime (adjust format as needed)\n",
    "df_transformed['15 Minutes'] = pd.to_datetime(df_transformed['15 Minutes'], format='%d-%m-%Y %H:%M')\n",
    "\n",
    "# Create new features based on the datetime\n",
    "df_transformed['Day'] = df_transformed['15 Minutes'].dt.dayofweek + 1\n",
    "df_transformed['Hour'] = df_transformed['15 Minutes'].dt.hour + df_transformed['15 Minutes'].dt.minute / 60.0\n",
    "df_transformed['Hour-Sin'] = np.sin(2 * np.pi * df_transformed['Hour'] / 24)\n",
    "df_transformed['Hour-Cos'] = np.cos(2 * np.pi * df_transformed['Hour'] / 24)\n",
    "\n",
    "# Create lag features for the flow column grouped by SCATS Number\n",
    "df_transformed['Lag-15min'] = df_transformed.groupby('SCATS Number')['Lane 1 Flow (Veh/15 Minutes)'].shift(1)\n",
    "df_transformed['Lag-30min'] = df_transformed.groupby('SCATS Number')['Lane 1 Flow (Veh/15 Minutes)'].shift(2)\n",
    "df_transformed['Lag-15min'] = df_transformed['Lag-15min'].fillna(0)\n",
    "df_transformed['Lag-30min'] = df_transformed['Lag-30min'].fillna(0)\n",
    "\n",
    "# Rearrange columns to match the desired order\n",
    "ordered_columns = ['SCATS Number', 'Location', '15 Minutes', 'Day', 'Hour', 'Hour-Sin', 'Hour-Cos',\n",
    "                   'Lag-15min', 'Lag-30min', 'Lane 1 Flow (Veh/15 Minutes)', '# Lane Points', '% Observed']\n",
    "df_transformed = df_transformed[ordered_columns]\n",
    "\n",
    "# Group the transformed data by 'Location'\n",
    "location_groups = df_transformed.groupby('Location')\n",
    "\n",
    "print(f'Found {len(location_groups)} unique locations')"
   ]
  },
  {
   "cell_type": "code",
   "execution_count": 8,
   "metadata": {},
   "outputs": [],
   "source": [
    "# Save each location's data to a separate CSV file\n",
    "for site_location, group_data in location_groups:\n",
    "    # Construct the file name based on SCATS number and location\n",
    "    output_file_name = f'{group_data[\"SCATS Number\"].iloc[0]}_{site_location}.csv'\n",
    "    output_file_path = os.path.join(output_dir, output_file_name)\n",
    "    # Save the grouped data to a CSV file\n",
    "    group_data.to_csv(output_file_path, index=False)"
   ]
  }
 ],
 "metadata": {
  "kernelspec": {
   "display_name": "COS30082",
   "language": "python",
   "name": "python3"
  },
  "language_info": {
   "codemirror_mode": {
    "name": "ipython",
    "version": 3
   },
   "file_extension": ".py",
   "mimetype": "text/x-python",
   "name": "python",
   "nbconvert_exporter": "python",
   "pygments_lexer": "ipython3",
   "version": "3.10.13"
  }
 },
 "nbformat": 4,
 "nbformat_minor": 2
}
