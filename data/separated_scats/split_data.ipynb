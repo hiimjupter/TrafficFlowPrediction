{
 "cells": [
  {
   "cell_type": "code",
   "execution_count": 2,
   "metadata": {},
   "outputs": [],
   "source": [
    "import pandas as pd\n",
    "import os"
   ]
  },
  {
   "cell_type": "code",
   "execution_count": 3,
   "metadata": {},
   "outputs": [],
   "source": [
    "input_dir = '/Users/jupternguyen/Projects/TrafficFlowPrediction/data/separated_scats'\n",
    "output_dir = '/Users/jupternguyen/Projects/TrafficFlowPrediction/data/splitted_scats'\n",
    "os.makedirs(output_dir, exist_ok=True)"
   ]
  },
  {
   "cell_type": "code",
   "execution_count": 4,
   "metadata": {},
   "outputs": [],
   "source": [
    "\n",
    "def split_data(file_name, split_ratio):\n",
    "    # read data\n",
    "    df = pd.read_csv(input_dir + '/' + file_name)\n",
    "    # Ensure the 'SCATS Number' column is formatted as a 4-digit string for consistency\n",
    "    df['SCATS Number'] = df['SCATS Number'].apply(lambda x: f'{x:04d}')\n",
    "    # Calculate index for splitting data based on the specified split_ratio\n",
    "    split_index = int(len(df) * (1 - split_ratio))\n",
    "    train_df = df.iloc[:split_index]  # Select rows for training data\n",
    "    test_df = df.iloc[split_index:]   # Select rows for testing data\n",
    "    # Save data to the output directory\n",
    "    file_name = file_name.replace('.csv', '')\n",
    "    train_df.to_csv(output_dir + '/' + file_name + '_train.csv', index=False)\n",
    "    test_df.to_csv(output_dir + '/' + file_name + '_test.csv', index=False)"
   ]
  },
  {
   "cell_type": "code",
   "execution_count": 5,
   "metadata": {},
   "outputs": [
    {
     "name": "stdout",
     "output_type": "stream",
     "text": [
      "The number of files in input_dir:  139\n"
     ]
    }
   ],
   "source": [
    "# List all files in the input directory\n",
    "files = os.listdir(input_dir)\n",
    "\n",
    "print('The number of files in input_dir: ', len([file for file in files if file.endswith('.csv')]))\n",
    "\n",
    "# Apply split_data function to each file\n",
    "for file_name in files:\n",
    "    if file_name.endswith('.csv'):\n",
    "        split_data(file_name, 0.2)  # Split data with 80% for training and 20% for testing"
   ]
  },
  {
   "cell_type": "code",
   "execution_count": 6,
   "metadata": {},
   "outputs": [
    {
     "name": "stdout",
     "output_type": "stream",
     "text": [
      "The number of files in output_dir:  278\n"
     ]
    }
   ],
   "source": [
    "# List all files in the output directory\n",
    "output_files = os.listdir(output_dir)\n",
    "\n",
    "print('The number of files in output_dir: ', len(output_files))"
   ]
  }
 ],
 "metadata": {
  "kernelspec": {
   "display_name": "COS30082",
   "language": "python",
   "name": "python3"
  },
  "language_info": {
   "codemirror_mode": {
    "name": "ipython",
    "version": 3
   },
   "file_extension": ".py",
   "mimetype": "text/x-python",
   "name": "python",
   "nbconvert_exporter": "python",
   "pygments_lexer": "ipython3",
   "version": "3.10.13"
  }
 },
 "nbformat": 4,
 "nbformat_minor": 2
}
